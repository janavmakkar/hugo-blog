{
 "cells": [
  {
   "cell_type": "markdown",
   "metadata": {},
   "source": [
    "|S.No| Problem | Done (y/n) | link|\n",
    "|-----| -------- | ------- | ------- |\n",
    "|1. | Reverse the array | N |  |\n",
    "|2. | Find the maximum and minimum element in an array | N |  |\n",
    "|3. | Find the \"Kth\" max and min element of an array  | N |  |\n",
    "|4. | Given an array which consists of only 0, 1 and 2. Sort the array without using any sorting algo | N |  |\n",
    "|5. | Move all the negative elements to one side of the array  | N |  |\n",
    "|6. | Find the Union and Intersection of the two sorted arrays. | N |  |\n",
    "|7. | Write a program to cyclically rotate an array by one. | N |  |\n",
    "|8. | Find Largest sum contiguous Subarray [V. IMP] | N |  |\n",
    "|9. | Minimise the maximum difference between heights [V.IMP] | N |  |\n",
    "|10. | Minimum no. of Jumps to reach end of an array | N |  |\n",
    "|11. | find duplicate in an array of N+1 Integers | N |  |\n",
    "|12. | Merge 2 sorted arrays without using Extra space. | N |  |\n",
    "|13. | Kadane's Algo [V.V.V.V.V IMP] | N |  |\n",
    "|14. | Merge Intervals | N |  |\n",
    "|15. | Next Permutation | N |  |\n",
    "|16. | Count Inversion | N |  |\n",
    "|17. | Best time to buy and Sell stock | N |  |\n",
    "|18. | find all pairs on integer array whose sum is equal to given number | N |  |\n",
    "|19. | find common elements In 3 sorted arrays | N |  |\n",
    "|20. | Rearrange the array in alternating positive and negative items with O(1) extra space | N |  |\n",
    "|21. | Find if there is any subarray with sum equal to 0 | N |  |\n",
    "|22. | Find factorial of a large number | N |  |\n",
    "|23. | find maximum product subarray  | N |  |\n",
    "|24. | Find longest coinsecutive subsequence | N |  |\n",
    "|25. | Given an array of size n and a number k, fin all elements that appear more than \" n/k \" times. | N |  |\n",
    "|26. | Maximum profit by buying and selling a share atmost twice | N |  |\n",
    "|27. | Find whether an array is a subset of another array | N |  |\n",
    "|28. | Find the triplet that sum to a given value | N |  |\n",
    "|29. | Trapping Rain water problem | N |  |\n",
    "|30. | Chocolate Distribution problem | N |  |\n",
    "|31. | Smallest Subarray with sum greater than a given value | N |  |\n",
    "|32. | Three way partitioning of an array around a given value | N |  |\n",
    "|33. | Minimum swaps required bring elements less equal K together | N |  |\n",
    "|34. | Minimum no. of operations required to make an array palindrome | N |  |\n",
    "|35. | Median of 2 sorted arrays of equal size | N |  |\n",
    "|36. | Median of 2 sorted arrays of different size | N |  |\n"
   ]
  },
  {
   "cell_type": "code",
   "execution_count": null,
   "metadata": {
    "vscode": {
     "languageId": "plaintext"
    }
   },
   "outputs": [],
   "source": [
    "# 1. Reverse the array\n"
   ]
  },
  {
   "cell_type": "code",
   "execution_count": null,
   "metadata": {
    "vscode": {
     "languageId": "plaintext"
    }
   },
   "outputs": [],
   "source": []
  }
 ],
 "metadata": {
  "language_info": {
   "name": "python"
  }
 },
 "nbformat": 4,
 "nbformat_minor": 2
}
