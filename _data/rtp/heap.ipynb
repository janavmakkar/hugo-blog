{
 "cells": [
  {
   "cell_type": "markdown",
   "metadata": {
    "vscode": {
     "languageId": "plaintext"
    }
   },
   "source": [
    "# Min-Heap\n",
    "- Min-Heap is a complete binary tree where the parent node is always smaller than or equal to its child nodes.\n",
    "- Since a Min Heap is a Complete Binary Tree, it is commonly represented using an array. In an array representation:\n",
    "\n",
    "- - The root element is stored at Arr[0].\n",
    "- - For any i-th node (at Arr[i]):\n",
    "- - Parent Node → Arr[(i - 1) / 2]\n",
    "- - Left Child → Arr[(2 * i) + 1]\n",
    "- - Right Child → Arr[(2 * i) + 2]\n",
    "\n",
    "## Operations on Min Heap\n",
    "- `getMin()`: It returns the root element of Min Heap. Time Complexity of this operation is O(1).\n",
    "- `extractMin()`: Removes the minimum element from MinHeap. Time Complexity of this Operation is O(Log n) as this operation needs to maintain the heap property (by calling heapify()) after removing root.\n",
    "- `insert()`: Inserting a new key takes O(Log n) time. We add a new key at the end of the tree. If new key is larger than its parent, then we don’t need to do anything. Otherwise, we need to traverse up to fix the violated heap property."
   ]
  },
  {
   "cell_type": "code",
   "execution_count": 6,
   "metadata": {},
   "outputs": [
    {
     "name": "stderr",
     "output_type": "stream",
     "text": [
      "<>:1: SyntaxWarning: invalid escape sequence '\\ '\n",
      "<>:1: SyntaxWarning: invalid escape sequence '\\ '\n",
      "C:\\Users\\ASUS\\AppData\\Local\\Temp\\ipykernel_33824\\711618232.py:1: SyntaxWarning: invalid escape sequence '\\ '\n",
      "  '''\n"
     ]
    }
   ],
   "source": [
    "'''\n",
    "            5                      13\n",
    "          /   \\                  /    \\  \n",
    "        10     15              16      31\n",
    "       /                      /  \\     /  \\\n",
    "     30                     41    51  100  41\n",
    "     \n",
    "'''\n",
    "A = [5, 10, 15, 30]\n",
    "B = [13, 16, 31, 41, 51, 100, 41]    "
   ]
  },
  {
   "cell_type": "code",
   "execution_count": 10,
   "metadata": {},
   "outputs": [
    {
     "name": "stdout",
     "output_type": "stream",
     "text": [
      "Min Heap: [4, 5, 11, 10, 7, 13]\n",
      "Heap after deleting 7: [4, 5, 11, 10, 13]\n",
      "Searching for 10 in heap: Found\n",
      "Minimum element in heap: 4\n"
     ]
    }
   ],
   "source": [
    "# Implementation of Min Heap in Python\n",
    "\n",
    "class MinHeap:\n",
    "    def __init__(self):\n",
    "        self.heap = []\n",
    "        \n",
    "    def insert(self, k): # O(log_n) \n",
    "        self.heap.append(k)\n",
    "        i = len(self.heap) -1\n",
    "        \n",
    "        while self.heap[i] < self.heap[(i-1)//2] and i > 0:\n",
    "            self.heap[i], self.heap[(i-1)//2] = self.heap[(i-1)//2], self.heap[i]\n",
    "            i = (i-1)//2\n",
    "        \n",
    "    def delete(self, val):\n",
    "        i=-1\n",
    "        for j in range(len(self.heap)):\n",
    "            if self.heap[j] == val:\n",
    "                i=j\n",
    "                break\n",
    "            \n",
    "        if i==-1:\n",
    "            return -1\n",
    "        \n",
    "        self.heap[i] = self.heap[-1]\n",
    "        self.heap.pop()\n",
    "        \n",
    "        while True:\n",
    "            small = i\n",
    "            left = 2*i+1\n",
    "            right = 2*i+2\n",
    "            \n",
    "            if left<len(self.heap) and self.heap[left]<self.heap[small]:\n",
    "                small = left\n",
    "                \n",
    "            if right<len(self.heap) and self.heap[right]<self.heap[small]:\n",
    "                small = right\n",
    "            \n",
    "            if small != i:\n",
    "                self.heap[i], self.heap[small] = self.heap[small], self.heap[i]\n",
    "                i = small\n",
    "                \n",
    "            else:\n",
    "                break\n",
    "\n",
    "            \n",
    "        \n",
    "    def getMin(self):\n",
    "        return self.heap[0] if self.heap else None\n",
    "        \n",
    "    \n",
    "    \"\"\"Heapify function to maintain the heap property.\"\"\" \n",
    "    def minHeapify(self,i,n):\n",
    "        left = 2 * i + 1\n",
    "        right = 2 * i + 2\n",
    "        smallest = i\n",
    "\n",
    "        if left < n and self.heap[smallest] > self.heap[left]:\n",
    "            smallest = left\n",
    "        if right < n and self.heap[smallest] > self.heap[right]:\n",
    "            smallest = right\n",
    "        if smallest!= i:\n",
    "            self.heap[i], self.heap[smallest] = self.heap[smallest], self.heap[i]\n",
    "            self.minHeapify(smallest, n)\n",
    "        \n",
    "    def printHeap(self):\n",
    "        print(\"Min Heap:\", self.heap)\n",
    "        \n",
    "    def search(self, k):\n",
    "        for j in self.heap:\n",
    "            if j == k:\n",
    "                return True\n",
    "        return False\n",
    "        \n",
    "if __name__ == \"__main__\":\n",
    "    h = MinHeap()\n",
    "    values = [10, 7, 11, 5, 4, 13]\n",
    "    for value in values:\n",
    "        h.insert(value)\n",
    "    h.printHeap()\n",
    "    \n",
    "    h.delete(7)\n",
    "    print(\"Heap after deleting 7:\", h.heap)\n",
    "    \n",
    "    print(\"Searching for 10 in heap:\", \"Found\" if h.search(10) else \"Not Found\")\n",
    "    print(\"Minimum element in heap:\", h.getMin())"
   ]
  }
 ],
 "metadata": {
  "kernelspec": {
   "display_name": "Python 3",
   "language": "python",
   "name": "python3"
  },
  "language_info": {
   "codemirror_mode": {
    "name": "ipython",
    "version": 3
   },
   "file_extension": ".py",
   "mimetype": "text/x-python",
   "name": "python",
   "nbconvert_exporter": "python",
   "pygments_lexer": "ipython3",
   "version": "3.12.1"
  }
 },
 "nbformat": 4,
 "nbformat_minor": 2
}
